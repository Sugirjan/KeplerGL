{
 "cells": [
  {
   "cell_type": "code",
   "execution_count": 2,
   "metadata": {},
   "outputs": [
    {
     "data": {
      "text/html": [
       "<div>\n",
       "<style scoped>\n",
       "    .dataframe tbody tr th:only-of-type {\n",
       "        vertical-align: middle;\n",
       "    }\n",
       "\n",
       "    .dataframe tbody tr th {\n",
       "        vertical-align: top;\n",
       "    }\n",
       "\n",
       "    .dataframe thead th {\n",
       "        text-align: right;\n",
       "    }\n",
       "</style>\n",
       "<table border=\"1\" class=\"dataframe\">\n",
       "  <thead>\n",
       "    <tr style=\"text-align: right;\">\n",
       "      <th></th>\n",
       "      <th>CMPLNT_NUM</th>\n",
       "      <th>ADDR_PCT_CD</th>\n",
       "      <th>BORO_NM</th>\n",
       "      <th>CMPLNT_FR_DT</th>\n",
       "      <th>CMPLNT_FR_TM</th>\n",
       "      <th>CMPLNT_TO_DT</th>\n",
       "      <th>CMPLNT_TO_TM</th>\n",
       "      <th>CRM_ATPT_CPTD_CD</th>\n",
       "      <th>HADEVELOPT</th>\n",
       "      <th>HOUSING_PSA</th>\n",
       "      <th>...</th>\n",
       "      <th>TRANSIT_DISTRICT</th>\n",
       "      <th>VIC_AGE_GROUP</th>\n",
       "      <th>VIC_RACE</th>\n",
       "      <th>VIC_SEX</th>\n",
       "      <th>X_COORD_CD</th>\n",
       "      <th>Y_COORD_CD</th>\n",
       "      <th>Latitude</th>\n",
       "      <th>Longitude</th>\n",
       "      <th>Lat_Lon</th>\n",
       "      <th>geometry</th>\n",
       "    </tr>\n",
       "  </thead>\n",
       "  <tbody>\n",
       "    <tr>\n",
       "      <th>0</th>\n",
       "      <td>831526991</td>\n",
       "      <td>67</td>\n",
       "      <td>BROOKLYN</td>\n",
       "      <td>03/31/2018</td>\n",
       "      <td>23:30:00</td>\n",
       "      <td>03/31/2018</td>\n",
       "      <td>23:37:00</td>\n",
       "      <td>COMPLETED</td>\n",
       "      <td></td>\n",
       "      <td></td>\n",
       "      <td>...</td>\n",
       "      <td></td>\n",
       "      <td>UNKNOWN</td>\n",
       "      <td>UNKNOWN</td>\n",
       "      <td>E</td>\n",
       "      <td>1003227</td>\n",
       "      <td>177460</td>\n",
       "      <td>40.653751263</td>\n",
       "      <td>-73.931609227</td>\n",
       "      <td>(40.653751263, -73.931609227)</td>\n",
       "      <td>None</td>\n",
       "    </tr>\n",
       "    <tr>\n",
       "      <th>1</th>\n",
       "      <td>496736340</td>\n",
       "      <td>120</td>\n",
       "      <td>STATEN ISLAND</td>\n",
       "      <td>03/31/2018</td>\n",
       "      <td>23:20:00</td>\n",
       "      <td>03/31/2018</td>\n",
       "      <td>23:30:00</td>\n",
       "      <td>COMPLETED</td>\n",
       "      <td>RICHMOND TERRACE</td>\n",
       "      <td>10143</td>\n",
       "      <td>...</td>\n",
       "      <td></td>\n",
       "      <td>&lt;18</td>\n",
       "      <td>BLACK</td>\n",
       "      <td>F</td>\n",
       "      <td>962748</td>\n",
       "      <td>174174</td>\n",
       "      <td>40.644726131</td>\n",
       "      <td>-74.077483159</td>\n",
       "      <td>(40.644726131, -74.077483159)</td>\n",
       "      <td>None</td>\n",
       "    </tr>\n",
       "    <tr>\n",
       "      <th>2</th>\n",
       "      <td>399593692</td>\n",
       "      <td>105</td>\n",
       "      <td>QUEENS</td>\n",
       "      <td>03/31/2018</td>\n",
       "      <td>23:15:00</td>\n",
       "      <td>03/31/2018</td>\n",
       "      <td>23:20:00</td>\n",
       "      <td>COMPLETED</td>\n",
       "      <td></td>\n",
       "      <td></td>\n",
       "      <td>...</td>\n",
       "      <td></td>\n",
       "      <td>18-24</td>\n",
       "      <td>BLACK</td>\n",
       "      <td>F</td>\n",
       "      <td>1056932</td>\n",
       "      <td>200034</td>\n",
       "      <td>40.715433534</td>\n",
       "      <td>-73.737816163</td>\n",
       "      <td>(40.715433534, -73.737816163)</td>\n",
       "      <td>None</td>\n",
       "    </tr>\n",
       "    <tr>\n",
       "      <th>3</th>\n",
       "      <td>282376455</td>\n",
       "      <td>110</td>\n",
       "      <td>QUEENS</td>\n",
       "      <td>03/31/2018</td>\n",
       "      <td>23:10:00</td>\n",
       "      <td>03/31/2018</td>\n",
       "      <td>23:20:00</td>\n",
       "      <td>COMPLETED</td>\n",
       "      <td></td>\n",
       "      <td></td>\n",
       "      <td>...</td>\n",
       "      <td></td>\n",
       "      <td>25-44</td>\n",
       "      <td>WHITE HISPANIC</td>\n",
       "      <td>M</td>\n",
       "      <td>1014990</td>\n",
       "      <td>210503</td>\n",
       "      <td>40.744413503</td>\n",
       "      <td>-73.889065158</td>\n",
       "      <td>(40.744413503, -73.889065158)</td>\n",
       "      <td>None</td>\n",
       "    </tr>\n",
       "    <tr>\n",
       "      <th>4</th>\n",
       "      <td>201598299</td>\n",
       "      <td>78</td>\n",
       "      <td>BROOKLYN</td>\n",
       "      <td>03/31/2018</td>\n",
       "      <td>23:10:00</td>\n",
       "      <td>03/31/2018</td>\n",
       "      <td>23:19:00</td>\n",
       "      <td>COMPLETED</td>\n",
       "      <td>572 WARREN STREET</td>\n",
       "      <td>2379</td>\n",
       "      <td>...</td>\n",
       "      <td></td>\n",
       "      <td>25-44</td>\n",
       "      <td>BLACK</td>\n",
       "      <td>F</td>\n",
       "      <td>989141</td>\n",
       "      <td>187733</td>\n",
       "      <td>40.681967344</td>\n",
       "      <td>-73.982367054</td>\n",
       "      <td>(40.681967344, -73.982367054)</td>\n",
       "      <td>None</td>\n",
       "    </tr>\n",
       "  </tbody>\n",
       "</table>\n",
       "<p>5 rows × 36 columns</p>\n",
       "</div>"
      ],
      "text/plain": [
       "  CMPLNT_NUM ADDR_PCT_CD        BORO_NM CMPLNT_FR_DT CMPLNT_FR_TM  \\\n",
       "0  831526991          67       BROOKLYN   03/31/2018     23:30:00   \n",
       "1  496736340         120  STATEN ISLAND   03/31/2018     23:20:00   \n",
       "2  399593692         105         QUEENS   03/31/2018     23:15:00   \n",
       "3  282376455         110         QUEENS   03/31/2018     23:10:00   \n",
       "4  201598299          78       BROOKLYN   03/31/2018     23:10:00   \n",
       "\n",
       "  CMPLNT_TO_DT CMPLNT_TO_TM CRM_ATPT_CPTD_CD         HADEVELOPT HOUSING_PSA  \\\n",
       "0   03/31/2018     23:37:00        COMPLETED                                  \n",
       "1   03/31/2018     23:30:00        COMPLETED   RICHMOND TERRACE       10143   \n",
       "2   03/31/2018     23:20:00        COMPLETED                                  \n",
       "3   03/31/2018     23:20:00        COMPLETED                                  \n",
       "4   03/31/2018     23:19:00        COMPLETED  572 WARREN STREET        2379   \n",
       "\n",
       "   ... TRANSIT_DISTRICT VIC_AGE_GROUP        VIC_RACE VIC_SEX X_COORD_CD  \\\n",
       "0  ...                        UNKNOWN         UNKNOWN       E    1003227   \n",
       "1  ...                            <18           BLACK       F     962748   \n",
       "2  ...                          18-24           BLACK       F    1056932   \n",
       "3  ...                          25-44  WHITE HISPANIC       M    1014990   \n",
       "4  ...                          25-44           BLACK       F     989141   \n",
       "\n",
       "  Y_COORD_CD      Latitude      Longitude                        Lat_Lon  \\\n",
       "0     177460  40.653751263  -73.931609227  (40.653751263, -73.931609227)   \n",
       "1     174174  40.644726131  -74.077483159  (40.644726131, -74.077483159)   \n",
       "2     200034  40.715433534  -73.737816163  (40.715433534, -73.737816163)   \n",
       "3     210503  40.744413503  -73.889065158  (40.744413503, -73.889065158)   \n",
       "4     187733  40.681967344  -73.982367054  (40.681967344, -73.982367054)   \n",
       "\n",
       "  geometry  \n",
       "0     None  \n",
       "1     None  \n",
       "2     None  \n",
       "3     None  \n",
       "4     None  \n",
       "\n",
       "[5 rows x 36 columns]"
      ]
     },
     "execution_count": 2,
     "metadata": {},
     "output_type": "execute_result"
    }
   ],
   "source": [
    "import pandas as pd\n",
    "from keplergl import KeplerGl\n",
    "import geopandas as gpd\n",
    "df = gpd.read_file(\"2018-10-24T22_01_39.000Z.csv\")\n",
    "df.head()"
   ]
  },
  {
   "cell_type": "code",
   "execution_count": 22,
   "metadata": {},
   "outputs": [
    {
     "name": "stdout",
     "output_type": "stream",
     "text": [
      "User Guide: https://github.com/keplergl/kepler.gl/blob/master/docs/keplergl-jupyter/user-guide.md\n"
     ]
    },
    {
     "data": {
      "application/vnd.jupyter.widget-view+json": {
       "model_id": "c5ac460602714472a7fefa70b536f671",
       "version_major": 2,
       "version_minor": 0
      },
      "text/plain": [
       "KeplerGl(height=600)"
      ]
     },
     "metadata": {},
     "output_type": "display_data"
    }
   ],
   "source": [
    "#Create a basemap \n",
    "map = KeplerGl(height=600, width=800)\n",
    "#show the map\n",
    "map"
   ]
  },
  {
   "cell_type": "code",
   "execution_count": 8,
   "metadata": {},
   "outputs": [],
   "source": [
    "df.Longitude = pd.to_numeric(df.Longitude, errors=\"coerce\")"
   ]
  },
  {
   "cell_type": "code",
   "execution_count": 9,
   "metadata": {},
   "outputs": [],
   "source": [
    "df.Latitude = pd.to_numeric(df.Latitude, errors=\"coerce\")"
   ]
  },
  {
   "cell_type": "code",
   "execution_count": 24,
   "metadata": {},
   "outputs": [],
   "source": [
    "# Create a gepdataframe\n",
    "gdf = gpd.GeoDataFrame(df, geometry=gpd.points_from_xy(df.Longitude, df.Latitude))\n",
    "# Add data to Kepler\n",
    "map.add_data(data=gdf, name=\"crimes\")"
   ]
  },
  {
   "cell_type": "code",
   "execution_count": 26,
   "metadata": {
    "scrolled": true
   },
   "outputs": [
    {
     "data": {
      "application/vnd.jupyter.widget-view+json": {
       "model_id": "c5ac460602714472a7fefa70b536f671",
       "version_major": 2,
       "version_minor": 0
      },
      "text/plain": [
       "KeplerGl(config={'version': 'v1', 'config': {'visState': {'filters': [], 'layers': [{'id': '8zolk0r', 'type': …"
      ]
     },
     "metadata": {},
     "output_type": "display_data"
    }
   ],
   "source": [
    "map"
   ]
  },
  {
   "cell_type": "code",
   "execution_count": null,
   "metadata": {},
   "outputs": [],
   "source": []
  }
 ],
 "metadata": {
  "kernelspec": {
   "display_name": "Python 3",
   "language": "python",
   "name": "python3"
  },
  "language_info": {
   "codemirror_mode": {
    "name": "ipython",
    "version": 3
   },
   "file_extension": ".py",
   "mimetype": "text/x-python",
   "name": "python",
   "nbconvert_exporter": "python",
   "pygments_lexer": "ipython3",
   "version": "3.7.7"
  }
 },
 "nbformat": 4,
 "nbformat_minor": 4
}
